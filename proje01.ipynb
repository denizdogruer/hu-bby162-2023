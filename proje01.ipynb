{
  "nbformat": 4,
  "nbformat_minor": 0,
  "metadata": {
    "colab": {
      "provenance": [],
      "authorship_tag": "ABX9TyOXCvmgQGQ1YjIWfbDoeUK6",
      "include_colab_link": true
    },
    "kernelspec": {
      "name": "python3",
      "display_name": "Python 3"
    },
    "language_info": {
      "name": "python"
    }
  },
  "cells": [
    {
      "cell_type": "markdown",
      "metadata": {
        "id": "view-in-github",
        "colab_type": "text"
      },
      "source": [
        "<a href=\"https://colab.research.google.com/github/denizdogruer/hu-bby162-2023/blob/main/proje01.ipynb\" target=\"_parent\"><img src=\"https://colab.research.google.com/assets/colab-badge.svg\" alt=\"Open In Colab\"/></a>"
      ]
    },
    {
      "cell_type": "code",
      "execution_count": null,
      "metadata": {
        "id": "fr7fHFUc1ott"
      },
      "outputs": [],
      "source": [
        "tasks = []\n",
        "\n",
        "# Yapılacak işler listesini görüntüle\n",
        "print(\"Yapılacak İşler:\")\n",
        "if len(tasks) == 0:\n",
        "    print(\"Listede herhangi bir iş yok.\")\n",
        "else:\n",
        "    for i in range(len(tasks)):\n",
        "        print(f\"{i+1}. {tasks[i]}\")"
      ]
    },
    {
      "cell_type": "code",
      "source": [
        "# Yeni bir iş ekle\n",
        "new_task = input(\"Yeni iş ekleyin: \")\n",
        "tasks.append(new_task)"
      ],
      "metadata": {
        "id": "cV5xh4U_3Eok"
      },
      "execution_count": null,
      "outputs": []
    }
  ]
}