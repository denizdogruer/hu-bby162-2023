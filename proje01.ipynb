{
  "nbformat": 4,
  "nbformat_minor": 0,
  "metadata": {
    "colab": {
      "provenance": [],
      "authorship_tag": "ABX9TyMUhe9Pq8LTVBpUIeafvu21",
      "include_colab_link": true
    },
    "kernelspec": {
      "name": "python3",
      "display_name": "Python 3"
    },
    "language_info": {
      "name": "python"
    }
  },
  "cells": [
    {
      "cell_type": "markdown",
      "metadata": {
        "id": "view-in-github",
        "colab_type": "text"
      },
      "source": [
        "<a href=\"https://colab.research.google.com/github/denizdogruer/hu-bby162-2023/blob/main/proje01.ipynb\" target=\"_parent\"><img src=\"https://colab.research.google.com/assets/colab-badge.svg\" alt=\"Open In Colab\"/></a>"
      ]
    },
    {
      "cell_type": "code",
      "execution_count": 2,
      "metadata": {
        "id": "fr7fHFUc1ott",
        "colab": {
          "base_uri": "https://localhost:8080/"
        },
        "outputId": "adbc24ed-0acc-4731-996f-4eea51cafe2b"
      },
      "outputs": [
        {
          "output_type": "stream",
          "name": "stdout",
          "text": [
            "['Spora git', 'Ödevlerini Yap', 'Online Derslere Katıl', 'Günde 5 Ögün Yemek Ye', 'Kalori Hesabı Yap']\n"
          ]
        }
      ],
      "source": [
        "#Yapılacak işler listesi.\n",
        "\n",
        "yapilacakisler = [\"Spora git\" , \"Ödevlerini Yap\" , \"Online Derslere Katıl\" , \"Günde 5 Ögün Yemek Ye\" , \"Kalori Hesabı Yap\"]\n",
        "print(yapilacakisler)"
      ]
    },
    {
      "cell_type": "code",
      "source": [
        "#Listeye yeni bir iş ekle.\n",
        "is_ekle  = input(\"Yeni iş ekleyin: \")\n",
        "yapilacakisler.append(is_ekle)\n"
      ],
      "metadata": {
        "id": "cV5xh4U_3Eok"
      },
      "execution_count": null,
      "outputs": []
    },
    {
      "cell_type": "code",
      "source": [
        "#Listenin mevcut hali.\n",
        "\n",
        "print(yapilacakisler)"
      ],
      "metadata": {
        "colab": {
          "base_uri": "https://localhost:8080/"
        },
        "id": "SW9AtHZuFGEB",
        "outputId": "41fa0826-1081-4453-ca8a-117de8883ded"
      },
      "execution_count": 6,
      "outputs": [
        {
          "output_type": "stream",
          "name": "stdout",
          "text": [
            "['Spora git', 'Ödevlerini Yap', 'Online Derslere Katıl', 'Günde 5 Ögün Yemek Ye', 'Kalori Hesabı Yap', 'yemek yap', 'yemek yap']\n"
          ]
        }
      ]
    },
    {
      "cell_type": "code",
      "source": [
        "#Listeden iş silme\n",
        "yapilacakisler.remove(\"Spora git\")\n",
        "print(yapilacakisler)\n",
        "\n"
      ],
      "metadata": {
        "colab": {
          "base_uri": "https://localhost:8080/"
        },
        "id": "Komsyb-XFXxS",
        "outputId": "08a46376-4cb4-4815-846c-c1511ec8e7bf"
      },
      "execution_count": 11,
      "outputs": [
        {
          "output_type": "stream",
          "name": "stdout",
          "text": [
            "['Ödevlerini Yap', 'Online Derslere Katıl', 'Günde 5 Ögün Yemek Ye', 'Kalori Hesabı Yap', 'yemek yap']\n"
          ]
        }
      ]
    },
    {
      "cell_type": "code",
      "source": [
        "#Liste'yi silme\n",
        "\n",
        "del yapilacakisler[1:3]\n",
        "print(yapilacakisler)"
      ],
      "metadata": {
        "colab": {
          "base_uri": "https://localhost:8080/"
        },
        "id": "juhIkBtSHRJN",
        "outputId": "3dfa962d-713e-4136-a6e2-5f8cd1b3d78d"
      },
      "execution_count": 19,
      "outputs": [
        {
          "output_type": "stream",
          "name": "stdout",
          "text": [
            "[]\n"
          ]
        }
      ]
    }
  ]
}