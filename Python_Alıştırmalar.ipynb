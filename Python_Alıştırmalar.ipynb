{
  "nbformat": 4,
  "nbformat_minor": 0,
  "metadata": {
    "colab": {
      "provenance": [],
      "authorship_tag": "ABX9TyNvGwJwqdpmSN4z9n6KJcWs",
      "include_colab_link": true
    },
    "kernelspec": {
      "name": "python3",
      "display_name": "Python 3"
    },
    "language_info": {
      "name": "python"
    }
  },
  "cells": [
    {
      "cell_type": "markdown",
      "metadata": {
        "id": "view-in-github",
        "colab_type": "text"
      },
      "source": [
        "<a href=\"https://colab.research.google.com/github/denizdogruer/hu-bby162-2023/blob/main/Python_Al%C4%B1%C5%9Ft%C4%B1rmalar.ipynb\" target=\"_parent\"><img src=\"https://colab.research.google.com/assets/colab-badge.svg\" alt=\"Open In Colab\"/></a>"
      ]
    },
    {
      "cell_type": "code",
      "execution_count": null,
      "metadata": {
        "id": "D4EoajPxzyRh"
      },
      "outputs": [],
      "source": [
        "urunAdi = \"Bisiklet\"\n",
        "urunBedeliAvro = 850\n",
        "kurAvro = 7\n",
        "urunAdet = 3\n",
        "pesinAdetIndirimTL = 500\n",
        "butce = 15000\n",
        "deger1= urunBedeliAvro*kurAvro*urunAdet-pesinAdetIndirimTL\n",
        "print(butce>deger1)\n",
        "print(deger1>butce)\n"
      ]
    },
    {
      "cell_type": "code",
      "source": [
        "# 13 Mart 2023  Test  Programı  \n",
        "print(\"***  Test Programı Başladı ***\")\n",
        "print(\"Soru 1:  Dünya düzdür  müdür?\")\n",
        "soru1 = \"Evet\"\n",
        "cevap1 = input(\"Cevap:\")\n",
        "print(soru1 ==  cevap1 )\n",
        "sonuc = soru1 ==  cevap1\n",
        "print(\"Cevabınız  \" + str(sonuc))\n"
      ],
      "metadata": {
        "id": "KuQY0TTQ5qGK"
      },
      "execution_count": null,
      "outputs": []
    },
    {
      "cell_type": "markdown",
      "source": [],
      "metadata": {
        "id": "V9vY6NT7_at4"
      }
    }
  ]
}