{
  "nbformat": 4,
  "nbformat_minor": 0,
  "metadata": {
    "colab": {
      "provenance": [],
      "authorship_tag": "ABX9TyPjGIbzFn2iXA2ANXHWwiFt",
      "include_colab_link": true
    },
    "kernelspec": {
      "name": "python3",
      "display_name": "Python 3"
    },
    "language_info": {
      "name": "python"
    }
  },
  "cells": [
    {
      "cell_type": "markdown",
      "metadata": {
        "id": "view-in-github",
        "colab_type": "text"
      },
      "source": [
        "<a href=\"https://colab.research.google.com/github/denizdogruer/hu-bby162-2023/blob/main/proje02.ipynb\" target=\"_parent\"><img src=\"https://colab.research.google.com/assets/colab-badge.svg\" alt=\"Open In Colab\"/></a>"
      ]
    },
    {
      "cell_type": "code",
      "execution_count": null,
      "metadata": {
        "id": "hbNw2TZeI2CI"
      },
      "outputs": [],
      "source": [
        "print(\"Adam Asmaca Oyununa Hoşgeldin.\")\n",
        "seviye = int(input(\"Seviye seçiniz: 1-Basit 2-Orta 3-Zor: \"))\n",
        "from random import randint\n",
        "\n",
        "if seviye == 1:\n",
        "    print(\"Basit seviye seçildi.\")\n",
        "    can1 = 7\n",
        "    kelimeler1 = [\"Ankara\", \"Eskisehir\", \"Bursa\", \"Bilecik\", \"Bartın\"]\n",
        "    kelimeSayisi1 = len(kelimeler1)\n",
        "    secilen1 = randint(0, kelimeSayisi1 - 1)\n",
        "    secilenKelime1 = kelimeler1[secilen1]\n",
        "    print(secilenKelime1)\n",
        "    dizilenKelime1 = []\n",
        "    for diz in kelimeler1[secilen1]:\n",
        "        dizilenKelime1.append(\"_\")\n",
        "    print(dizilenKelime1)\n",
        "\n",
        "    while can1 > 0:\n",
        "        girilenHarf = input(\"Bir harf giriniz: \")\n",
        "        canKontrol = girilenHarf in secilenKelime1\n",
        "        if canKontrol == False:\n",
        "            can1 -= 1\n",
        "        i = 0\n",
        "        for kontrol in secilenKelime1:\n",
        "            if secilenKelime1[i] == girilenHarf:\n",
        "                dizilenKelime1[i] = girilenHarf\n",
        "            i += 1\n",
        "        print(dizilenKelime1)\n",
        "        print(\"Kalan can: \" + str(can1))\n",
        "\n",
        "elif seviye == 2:\n",
        "    print(\"Orta seviye seçildi.\")\n",
        "    can2 = 5\n",
        "    kelimeler2 = [\"Elma\", \"Karpuz\", \"Cilek\", \"Kiraz\", \"Kayısı\"]\n",
        "    kelimeSayisi2 = len(kelimeler2)\n",
        "    secilen2 = randint(0, kelimeSayisi2 - 1)\n",
        "    secilenKelime2 = kelimeler2[secilen2]\n",
        "    print(secilenKelime2)\n",
        "    dizilenKelime2 = []\n",
        "    for diz in kelimeler2[secilen2]:\n",
        "        dizilenKelime2.append(\"_\")\n",
        "    print(dizilenKelime2)\n",
        "\n",
        "    while can2 > 0:\n",
        "        girilenHarf = input(\"Bir harf giriniz: \")\n",
        "        canKontrol = girilenHarf in secilenKelime2\n",
        "        if canKontrol == False:\n",
        "            can2 -= 1\n",
        "        i = 0\n",
        "        for kontrol in secilenKelime2:\n",
        "            if secilenKelime2[i] == girilenHarf:\n",
        "                dizilenKelime2[i] = girilenHarf\n",
        "            i += 1\n",
        "        print(dizilenKelime2)\n",
        "        print(\"Kalan can: \" + str(can2))\n",
        "\n",
        "elif seviye == 3:\n",
        "    print(\"Zor seviye seçildi\")\n",
        "    can3 = 3\n",
        "    kelimeler3 = [\"Kanguru\", \"Balina\", \"Bukalemun\", \"Kertenkele\" , \"Ejderha\"]"
      ]
    }
  ]
}